{
 "cells": [
  {
   "cell_type": "code",
   "execution_count": null,
   "id": "1259ea1b-3313-4d39-b706-78665083e59f",
   "metadata": {},
   "outputs": [],
   "source": [
    "Multi-Task Learning Model: A deep neural network architecture with shared hidden layers, which predicts two targets (Life Expectancy and GDP).\n",
    "Adam Optimizer: Used for compiling and optimizing the model during training.\n",
    "KFold Cross-Validation: Implemented for cross-validation to evaluate the model's performance across different folds.\n",
    "Feature Selection: Using Recursive Feature Elimination (RFE) for selecting the most important features."
   ]
  },
  {
   "cell_type": "code",
   "execution_count": 1,
   "id": "a8b8f93e-b749-4e9f-98b9-ca6d57f38f54",
   "metadata": {},
   "outputs": [],
   "source": [
    "import pandas as pd\n",
    "import numpy as np\n",
    "from sklearn.model_selection import train_test_split\n",
    "from sklearn.preprocessing import StandardScaler\n",
    "from sklearn.feature_selection import SelectKBest, f_regression\n",
    "from tensorflow.keras.models import Model\n",
    "from tensorflow.keras.layers import Dense, Dropout, BatchNormalization, Input\n",
    "from tensorflow.keras.callbacks import EarlyStopping, ReduceLROnPlateau\n",
    "from sklearn.metrics import mean_squared_error, r2_score\n",
    "\n",
    "df = pd.read_csv(r\"C:\\Users\\super\\Downloads\\environmental_data_with_near_real_pm25.csv\")"
   ]
  },
  {
   "cell_type": "code",
   "execution_count": 2,
   "id": "2ee9397d-c674-4cb9-ab90-35e31d8ba0b7",
   "metadata": {},
   "outputs": [
    {
     "name": "stdout",
     "output_type": "stream",
     "text": [
      "Country                                    0\n",
      "PM2.5 Concentration (µg/m³)               48\n",
      "CO2 Emissions (metric tons per capita)    31\n",
      "Air Pollution Index                        0\n",
      "Water Quality Index                        0\n",
      "dtype: int64\n"
     ]
    }
   ],
   "source": [
    "print(df.isnull().sum())"
   ]
  },
  {
   "cell_type": "code",
   "execution_count": 3,
   "id": "cd6f7d03-bb06-4ebd-8f0c-90f9b66b70c5",
   "metadata": {},
   "outputs": [
    {
     "name": "stdout",
     "output_type": "stream",
     "text": [
      "Removed 0 duplicate rows.\n"
     ]
    }
   ],
   "source": [
    "initial_rows = len(df)\n",
    "df = df.drop_duplicates()\n",
    "print(f\"Removed {initial_rows - len(df)} duplicate rows.\")"
   ]
  },
  {
   "cell_type": "code",
   "execution_count": 4,
   "id": "be0572b4-b74b-4754-b7dd-97a7b5702ca0",
   "metadata": {},
   "outputs": [
    {
     "name": "stdout",
     "output_type": "stream",
     "text": [
      "       Country  PM2.5 Concentration (µg/m³)  \\\n",
      "0  Afghanistan                     1.000000   \n",
      "1      Albania                     0.054591   \n",
      "2      Algeria                     0.151421   \n",
      "3      Andorra                     0.517226   \n",
      "4       Angola                     0.173116   \n",
      "\n",
      "   CO2 Emissions (metric tons per capita)  Air Pollution Index  \\\n",
      "0                                0.005792             0.155817   \n",
      "1                                0.047484             0.819168   \n",
      "2                                0.116082             0.833467   \n",
      "3                                0.181059             0.505766   \n",
      "4                                0.017446             0.000000   \n",
      "\n",
      "   Water Quality Index  \n",
      "0             0.273399  \n",
      "1             0.590675  \n",
      "2             0.912466  \n",
      "3             0.206865  \n",
      "4             0.621461  \n"
     ]
    }
   ],
   "source": [
    "from sklearn.preprocessing import MinMaxScaler\n",
    "for column in df.columns:\n",
    "    if df[column].dtype == float:  \n",
    "        df[column].fillna(df[column].mean(), inplace=True)\n",
    "\n",
    "\n",
    "# Normalization of numerical columns using Min-Max Scaler\n",
    "scaler = MinMaxScaler()\n",
    "numerical_columns = ['PM2.5 Concentration (µg/m³)', 'CO2 Emissions (metric tons per capita)', \n",
    "                     'Air Pollution Index', 'Water Quality Index']\n",
    "df[numerical_columns] = scaler.fit_transform(df[numerical_columns])\n",
    "\n",
    "print(df.head())"
   ]
  },
  {
   "cell_type": "code",
   "execution_count": 13,
   "id": "4f34cc8c-afec-4ffd-b088-3496f243acdc",
   "metadata": {},
   "outputs": [],
   "source": [
    "data = pd.read_csv(\"C:\\\\Users\\\\super\\\\Downloads\\\\cleaned_environmental_data.csv\")\n",
    "world_data = pd.read_csv(\"C:\\\\Users\\\\super\\\\Downloads\\\\world-data-2023_cleaned.csv\")"
   ]
  },
  {
   "cell_type": "code",
   "execution_count": 14,
   "id": "83daa38c-ca01-4829-a55e-71264b97ee21",
   "metadata": {},
   "outputs": [],
   "source": [
    "columns_to_add = [\n",
    "    'Country',  \n",
    "    'Life expectancy',  \n",
    "    'GDP', \n",
    "    'Out of pocket health expenditure',\n",
    "    'Gross tertiary education enrollment (%)',\n",
    "    'Population',\n",
    "    'Urban_population'  \n",
    "]"
   ]
  },
  {
   "cell_type": "code",
   "execution_count": 15,
   "id": "0723682e-069b-481e-a176-fa0bfa5c80fe",
   "metadata": {},
   "outputs": [
    {
     "name": "stdout",
     "output_type": "stream",
     "text": [
      "       Country  PM2.5 Concentration (µg/m³)  CO2 Emissions (metric tons per capita)  Air Pollution Index  Water Quality Index  Life expectancy          GDP  Out of pocket health expenditure  Gross tertiary education enrollment (%)  Population  Urban_population\n",
      "0  Afghanistan                      1.00000                                 0.00579              0.15582              0.27340         64.50000  1.91014e+10                              78.4                                  9.70000  38041754.0         9797273.0\n",
      "1      Albania                      0.05459                                 0.04748              0.81917              0.59067         78.50000  1.52781e+10                              56.9                                 55.00000   2854191.0         1747593.0\n",
      "2      Algeria                      0.15142                                 0.11608              0.83347              0.91247         76.70000  1.69988e+11                              28.1                                 51.40000  43053054.0        31510100.0\n",
      "3      Andorra                      0.51723                                 0.18106              0.50577              0.20687         72.27968  3.15406e+09                              36.4                                 37.96339     77142.0           67873.0\n",
      "4       Angola                      0.17312                                 0.01745              0.00000              0.62146         60.80000  9.46354e+10                              33.4                                  9.30000  31825295.0        21061025.0\n"
     ]
    }
   ],
   "source": [
    "if 'Country' not in data.columns:\n",
    "    data.rename(columns={df.columns[0]: 'Country'}, inplace=True)\n",
    "\n",
    "if 'Country' in world_data.columns and 'Country' in data.columns:\n",
    "    merged_data = pd.merge(data, world_data[columns_to_add], on='Country', how='inner')\n",
    "    print(merged_data.head())\n",
    "else:\n",
    "    print(\"Country column is missing in one of the dataframes or incorrectly named.\")"
   ]
  },
  {
   "cell_type": "code",
   "execution_count": 16,
   "id": "dfbc3741-1127-4fa4-97f4-c08e6e79395c",
   "metadata": {},
   "outputs": [
    {
     "name": "stdout",
     "output_type": "stream",
     "text": [
      "       Country  PM2.5 Concentration (µg/m³)  CO2 Emissions (metric tons per capita)  Air Pollution Index  Water Quality Index  Life expectancy          GDP  Out of pocket health expenditure  Gross tertiary education enrollment (%)  Population  Urban_population\n",
      "0  Afghanistan                      1.00000                                 0.00579              0.15582              0.27340         64.50000  1.91014e+10                              78.4                                  9.70000  38041754.0         9797273.0\n",
      "1      Albania                      0.05459                                 0.04748              0.81917              0.59067         78.50000  1.52781e+10                              56.9                                 55.00000   2854191.0         1747593.0\n",
      "2      Algeria                      0.15142                                 0.11608              0.83347              0.91247         76.70000  1.69988e+11                              28.1                                 51.40000  43053054.0        31510100.0\n",
      "3      Andorra                      0.51723                                 0.18106              0.50577              0.20687         72.27968  3.15406e+09                              36.4                                 37.96339     77142.0           67873.0\n",
      "4       Angola                      0.17312                                 0.01745              0.00000              0.62146         60.80000  9.46354e+10                              33.4                                  9.30000  31825295.0        21061025.0\n"
     ]
    }
   ],
   "source": [
    "if 'Country' not in data.columns:\n",
    "    data.rename(columns={df.columns[0]: 'Country'}, inplace=True)\n",
    "\n",
    "if 'Country' in world_data.columns and 'Country' in data.columns:\n",
    "    merged_data = pd.merge(data, world_data[columns_to_add], on='Country', how='inner')\n",
    "    print(merged_data.head())\n",
    "else:\n",
    "    print(\"Country column is missing in one of the dataframes or incorrectly named.\")"
   ]
  },
  {
   "cell_type": "code",
   "execution_count": 6,
   "id": "9d816613-130c-4fb7-8670-5e5834aa61c9",
   "metadata": {},
   "outputs": [
    {
     "name": "stdout",
     "output_type": "stream",
     "text": [
      "Life expectancy                            1.000000\n",
      "Gross tertiary education enrollment (%)    0.714553\n",
      "CO2 Emissions (metric tons per capita)     0.448901\n",
      "GDP                                        0.175355\n",
      "Air Pollution Index                        0.094701\n",
      "Urban_population                           0.070007\n",
      "Population                                 0.008409\n",
      "Water Quality Index                        0.005960\n",
      "Out of pocket health expenditure          -0.317561\n",
      "PM2.5 Concentration (µg/m³)               -0.384366\n",
      "Name: Life expectancy, dtype: float64\n"
     ]
    },
    {
     "ename": "NameError",
     "evalue": "name 'plt' is not defined",
     "output_type": "error",
     "traceback": [
      "\u001b[1;31m---------------------------------------------------------------------------\u001b[0m",
      "\u001b[1;31mNameError\u001b[0m                                 Traceback (most recent call last)",
      "Cell \u001b[1;32mIn[6], line 9\u001b[0m\n\u001b[0;32m      6\u001b[0m \u001b[38;5;28mprint\u001b[39m(life_expectancy_correlation)\n\u001b[0;32m      8\u001b[0m \u001b[38;5;66;03m# Correlation heatmap for numeric data\u001b[39;00m\n\u001b[1;32m----> 9\u001b[0m \u001b[43mplt\u001b[49m\u001b[38;5;241m.\u001b[39mfigure(figsize\u001b[38;5;241m=\u001b[39m(\u001b[38;5;241m12\u001b[39m, \u001b[38;5;241m10\u001b[39m))\n\u001b[0;32m     10\u001b[0m sns\u001b[38;5;241m.\u001b[39mheatmap(numeric_data\u001b[38;5;241m.\u001b[39mcorr(), annot\u001b[38;5;241m=\u001b[39m\u001b[38;5;28;01mTrue\u001b[39;00m, fmt\u001b[38;5;241m=\u001b[39m\u001b[38;5;124m\"\u001b[39m\u001b[38;5;124m.2f\u001b[39m\u001b[38;5;124m\"\u001b[39m, cmap\u001b[38;5;241m=\u001b[39m\u001b[38;5;124m'\u001b[39m\u001b[38;5;124mcoolwarm\u001b[39m\u001b[38;5;124m'\u001b[39m)\n\u001b[0;32m     11\u001b[0m plt\u001b[38;5;241m.\u001b[39mtitle(\u001b[38;5;124m'\u001b[39m\u001b[38;5;124mExtended Correlation Matrix\u001b[39m\u001b[38;5;124m'\u001b[39m)\n",
      "\u001b[1;31mNameError\u001b[0m: name 'plt' is not defined"
     ]
    }
   ],
   "source": [
    "import seaborn as sns\n",
    "numeric_data = merged_data.select_dtypes(include=[np.number])  \n",
    "correlation_matrix = numeric_data.corr()\n",
    "life_expectancy_correlation = correlation_matrix['Life expectancy'].sort_values(ascending=False)\n",
    "print(life_expectancy_correlation)\n",
    "\n",
    "plt.figure(figsize=(12, 10))\n",
    "sns.heatmap(numeric_data.corr(), annot=True, fmt=\".2f\", cmap='coolwarm')\n",
    "plt.title('Extended Correlation Matrix')\n",
    "plt.show()"
   ]
  },
  {
   "cell_type": "code",
   "execution_count": 17,
   "id": "9bea1ff9-d45b-4a74-8d73-c9d50e2080bc",
   "metadata": {},
   "outputs": [
    {
     "name": "stderr",
     "output_type": "stream",
     "text": [
      "C:\\Users\\super\\AppData\\Local\\Programs\\Python\\Python39\\lib\\site-packages\\sklearn\\feature_selection\\_rfe.py:291: UserWarning: Found n_features_to_select=30 > n_features=9. There will be no feature selection and all features will be kept.\n",
      "  warnings.warn(\n"
     ]
    },
    {
     "name": "stdout",
     "output_type": "stream",
     "text": [
      "Reloading Tuner from keras_tuner_dir\\mtl_life_expectancy\\tuner0.json\n",
      "Epoch 1/300\n"
     ]
    },
    {
     "name": "stderr",
     "output_type": "stream",
     "text": [
      "C:\\Users\\super\\AppData\\Local\\Programs\\Python\\Python39\\lib\\site-packages\\keras\\src\\saving\\saving_lib.py:719: UserWarning: Skipping variable loading for optimizer 'adam', because it has 2 variables whereas the saved optimizer has 34 variables. \n",
      "  saveable.load_own_variables(weights_store.get(inner_path))\n"
     ]
    },
    {
     "name": "stdout",
     "output_type": "stream",
     "text": [
      "\u001b[1m3/3\u001b[0m \u001b[32m━━━━━━━━━━━━━━━━━━━━\u001b[0m\u001b[37m\u001b[0m \u001b[1m6s\u001b[0m 289ms/step - gdp_output_loss: 0.5799 - life_expectancy_output_loss: 0.1380 - loss: 0.7580 - val_gdp_output_loss: 0.1038 - val_life_expectancy_output_loss: 0.0353 - val_loss: 0.1391\n",
      "Epoch 2/300\n",
      "\u001b[1m3/3\u001b[0m \u001b[32m━━━━━━━━━━━━━━━━━━━━\u001b[0m\u001b[37m\u001b[0m \u001b[1m0s\u001b[0m 38ms/step - gdp_output_loss: 0.1843 - life_expectancy_output_loss: 0.0432 - loss: 0.2262 - val_gdp_output_loss: 0.0446 - val_life_expectancy_output_loss: 0.0034 - val_loss: 0.0480\n",
      "Epoch 3/300\n",
      "\u001b[1m3/3\u001b[0m \u001b[32m━━━━━━━━━━━━━━━━━━━━\u001b[0m\u001b[37m\u001b[0m \u001b[1m0s\u001b[0m 37ms/step - gdp_output_loss: 0.0965 - life_expectancy_output_loss: 0.0214 - loss: 0.1163 - val_gdp_output_loss: 0.1344 - val_life_expectancy_output_loss: 0.0115 - val_loss: 0.1459\n",
      "Epoch 4/300\n",
      "\u001b[1m3/3\u001b[0m \u001b[32m━━━━━━━━━━━━━━━━━━━━\u001b[0m\u001b[37m\u001b[0m \u001b[1m0s\u001b[0m 30ms/step - gdp_output_loss: 0.1138 - life_expectancy_output_loss: 0.0244 - loss: 0.1343 - val_gdp_output_loss: 0.1013 - val_life_expectancy_output_loss: 0.0087 - val_loss: 0.1100\n",
      "Epoch 5/300\n",
      "\u001b[1m3/3\u001b[0m \u001b[32m━━━━━━━━━━━━━━━━━━━━\u001b[0m\u001b[37m\u001b[0m \u001b[1m0s\u001b[0m 37ms/step - gdp_output_loss: 0.1268 - life_expectancy_output_loss: 0.0153 - loss: 0.1469 - val_gdp_output_loss: 0.0379 - val_life_expectancy_output_loss: 0.0023 - val_loss: 0.0401\n",
      "Epoch 6/300\n",
      "\u001b[1m3/3\u001b[0m \u001b[32m━━━━━━━━━━━━━━━━━━━━\u001b[0m\u001b[37m\u001b[0m \u001b[1m0s\u001b[0m 39ms/step - gdp_output_loss: 0.0718 - life_expectancy_output_loss: 0.0149 - loss: 0.0893 - val_gdp_output_loss: 0.0292 - val_life_expectancy_output_loss: 0.0042 - val_loss: 0.0334\n",
      "Epoch 7/300\n",
      "\u001b[1m3/3\u001b[0m \u001b[32m━━━━━━━━━━━━━━━━━━━━\u001b[0m\u001b[37m\u001b[0m \u001b[1m0s\u001b[0m 34ms/step - gdp_output_loss: 0.0726 - life_expectancy_output_loss: 0.0153 - loss: 0.0839 - val_gdp_output_loss: 0.0429 - val_life_expectancy_output_loss: 0.0076 - val_loss: 0.0505\n",
      "Epoch 8/300\n",
      "\u001b[1m3/3\u001b[0m \u001b[32m━━━━━━━━━━━━━━━━━━━━\u001b[0m\u001b[37m\u001b[0m \u001b[1m0s\u001b[0m 36ms/step - gdp_output_loss: 0.0785 - life_expectancy_output_loss: 0.0112 - loss: 0.0886 - val_gdp_output_loss: 0.0367 - val_life_expectancy_output_loss: 0.0043 - val_loss: 0.0410\n",
      "Epoch 9/300\n",
      "\u001b[1m3/3\u001b[0m \u001b[32m━━━━━━━━━━━━━━━━━━━━\u001b[0m\u001b[37m\u001b[0m \u001b[1m0s\u001b[0m 42ms/step - gdp_output_loss: 0.0576 - life_expectancy_output_loss: 0.0091 - loss: 0.0664 - val_gdp_output_loss: 0.0307 - val_life_expectancy_output_loss: 0.0013 - val_loss: 0.0320\n",
      "Epoch 10/300\n",
      "\u001b[1m3/3\u001b[0m \u001b[32m━━━━━━━━━━━━━━━━━━━━\u001b[0m\u001b[37m\u001b[0m \u001b[1m0s\u001b[0m 34ms/step - gdp_output_loss: 0.0503 - life_expectancy_output_loss: 0.0059 - loss: 0.0558 - val_gdp_output_loss: 0.0326 - val_life_expectancy_output_loss: 0.0013 - val_loss: 0.0339\n",
      "Epoch 11/300\n",
      "\u001b[1m3/3\u001b[0m \u001b[32m━━━━━━━━━━━━━━━━━━━━\u001b[0m\u001b[37m\u001b[0m \u001b[1m0s\u001b[0m 37ms/step - gdp_output_loss: 0.0569 - life_expectancy_output_loss: 0.0103 - loss: 0.0674 - val_gdp_output_loss: 0.0352 - val_life_expectancy_output_loss: 8.2637e-04 - val_loss: 0.0361\n",
      "Epoch 12/300\n",
      "\u001b[1m3/3\u001b[0m \u001b[32m━━━━━━━━━━━━━━━━━━━━\u001b[0m\u001b[37m\u001b[0m \u001b[1m0s\u001b[0m 40ms/step - gdp_output_loss: 0.0486 - life_expectancy_output_loss: 0.0064 - loss: 0.0520 - val_gdp_output_loss: 0.0354 - val_life_expectancy_output_loss: 8.8409e-04 - val_loss: 0.0363\n",
      "Epoch 13/300\n",
      "\u001b[1m3/3\u001b[0m \u001b[32m━━━━━━━━━━━━━━━━━━━━\u001b[0m\u001b[37m\u001b[0m \u001b[1m0s\u001b[0m 37ms/step - gdp_output_loss: 0.0429 - life_expectancy_output_loss: 0.0061 - loss: 0.0479 - val_gdp_output_loss: 0.0360 - val_life_expectancy_output_loss: 0.0013 - val_loss: 0.0373\n",
      "Epoch 14/300\n",
      "\u001b[1m3/3\u001b[0m \u001b[32m━━━━━━━━━━━━━━━━━━━━\u001b[0m\u001b[37m\u001b[0m \u001b[1m0s\u001b[0m 39ms/step - gdp_output_loss: 0.0432 - life_expectancy_output_loss: 0.0047 - loss: 0.0475 - val_gdp_output_loss: 0.0302 - val_life_expectancy_output_loss: 0.0012 - val_loss: 0.0314\n",
      "Epoch 15/300\n",
      "\u001b[1m3/3\u001b[0m \u001b[32m━━━━━━━━━━━━━━━━━━━━\u001b[0m\u001b[37m\u001b[0m \u001b[1m0s\u001b[0m 33ms/step - gdp_output_loss: 0.0531 - life_expectancy_output_loss: 0.0044 - loss: 0.0525 - val_gdp_output_loss: 0.0269 - val_life_expectancy_output_loss: 7.5256e-04 - val_loss: 0.0276\n",
      "Epoch 16/300\n",
      "\u001b[1m3/3\u001b[0m \u001b[32m━━━━━━━━━━━━━━━━━━━━\u001b[0m\u001b[37m\u001b[0m \u001b[1m0s\u001b[0m 39ms/step - gdp_output_loss: 0.0420 - life_expectancy_output_loss: 0.0050 - loss: 0.0469 - val_gdp_output_loss: 0.0263 - val_life_expectancy_output_loss: 9.4471e-04 - val_loss: 0.0272\n",
      "Epoch 17/300\n",
      "\u001b[1m3/3\u001b[0m \u001b[32m━━━━━━━━━━━━━━━━━━━━\u001b[0m\u001b[37m\u001b[0m \u001b[1m0s\u001b[0m 33ms/step - gdp_output_loss: 0.0451 - life_expectancy_output_loss: 0.0040 - loss: 0.0474 - val_gdp_output_loss: 0.0279 - val_life_expectancy_output_loss: 9.9704e-04 - val_loss: 0.0289\n",
      "Epoch 18/300\n",
      "\u001b[1m3/3\u001b[0m \u001b[32m━━━━━━━━━━━━━━━━━━━━\u001b[0m\u001b[37m\u001b[0m \u001b[1m0s\u001b[0m 36ms/step - gdp_output_loss: 0.0347 - life_expectancy_output_loss: 0.0046 - loss: 0.0377 - val_gdp_output_loss: 0.0309 - val_life_expectancy_output_loss: 8.1908e-04 - val_loss: 0.0317\n",
      "Epoch 19/300\n",
      "\u001b[1m3/3\u001b[0m \u001b[32m━━━━━━━━━━━━━━━━━━━━\u001b[0m\u001b[37m\u001b[0m \u001b[1m0s\u001b[0m 38ms/step - gdp_output_loss: 0.0393 - life_expectancy_output_loss: 0.0049 - loss: 0.0414 - val_gdp_output_loss: 0.0297 - val_life_expectancy_output_loss: 8.6703e-04 - val_loss: 0.0305\n",
      "Epoch 20/300\n",
      "\u001b[1m3/3\u001b[0m \u001b[32m━━━━━━━━━━━━━━━━━━━━\u001b[0m\u001b[37m\u001b[0m \u001b[1m0s\u001b[0m 35ms/step - gdp_output_loss: 0.0342 - life_expectancy_output_loss: 0.0039 - loss: 0.0375 - val_gdp_output_loss: 0.0325 - val_life_expectancy_output_loss: 6.9632e-04 - val_loss: 0.0332\n",
      "Epoch 21/300\n",
      "\u001b[1m3/3\u001b[0m \u001b[32m━━━━━━━━━━━━━━━━━━━━\u001b[0m\u001b[37m\u001b[0m \u001b[1m0s\u001b[0m 41ms/step - gdp_output_loss: 0.0393 - life_expectancy_output_loss: 0.0037 - loss: 0.0428 - val_gdp_output_loss: 0.0357 - val_life_expectancy_output_loss: 6.3462e-04 - val_loss: 0.0364\n",
      "Epoch 22/300\n",
      "\u001b[1m3/3\u001b[0m \u001b[32m━━━━━━━━━━━━━━━━━━━━\u001b[0m\u001b[37m\u001b[0m \u001b[1m0s\u001b[0m 25ms/step - gdp_output_loss: 0.0373 - life_expectancy_output_loss: 0.0030 - loss: 0.0416 - val_gdp_output_loss: 0.0331 - val_life_expectancy_output_loss: 6.9849e-04 - val_loss: 0.0338\n",
      "Epoch 23/300\n",
      "\u001b[1m3/3\u001b[0m \u001b[32m━━━━━━━━━━━━━━━━━━━━\u001b[0m\u001b[37m\u001b[0m \u001b[1m0s\u001b[0m 40ms/step - gdp_output_loss: 0.0353 - life_expectancy_output_loss: 0.0045 - loss: 0.0396 - val_gdp_output_loss: 0.0305 - val_life_expectancy_output_loss: 5.8481e-04 - val_loss: 0.0311\n",
      "Epoch 24/300\n",
      "\u001b[1m3/3\u001b[0m \u001b[32m━━━━━━━━━━━━━━━━━━━━\u001b[0m\u001b[37m\u001b[0m \u001b[1m0s\u001b[0m 25ms/step - gdp_output_loss: 0.0362 - life_expectancy_output_loss: 0.0048 - loss: 0.0415 - val_gdp_output_loss: 0.0291 - val_life_expectancy_output_loss: 5.8821e-04 - val_loss: 0.0297\n",
      "Epoch 25/300\n",
      "\u001b[1m3/3\u001b[0m \u001b[32m━━━━━━━━━━━━━━━━━━━━\u001b[0m\u001b[37m\u001b[0m \u001b[1m0s\u001b[0m 32ms/step - gdp_output_loss: 0.0319 - life_expectancy_output_loss: 0.0025 - loss: 0.0341 - val_gdp_output_loss: 0.0288 - val_life_expectancy_output_loss: 8.4504e-04 - val_loss: 0.0296\n",
      "Epoch 26/300\n",
      "\u001b[1m3/3\u001b[0m \u001b[32m━━━━━━━━━━━━━━━━━━━━\u001b[0m\u001b[37m\u001b[0m \u001b[1m0s\u001b[0m 39ms/step - gdp_output_loss: 0.0339 - life_expectancy_output_loss: 0.0033 - loss: 0.0379 - val_gdp_output_loss: 0.0281 - val_life_expectancy_output_loss: 9.2437e-04 - val_loss: 0.0290\n",
      "Epoch 27/300\n",
      "\u001b[1m3/3\u001b[0m \u001b[32m━━━━━━━━━━━━━━━━━━━━\u001b[0m\u001b[37m\u001b[0m \u001b[1m0s\u001b[0m 36ms/step - gdp_output_loss: 0.0295 - life_expectancy_output_loss: 0.0034 - loss: 0.0329 - val_gdp_output_loss: 0.0282 - val_life_expectancy_output_loss: 7.5131e-04 - val_loss: 0.0290\n",
      "Epoch 28/300\n",
      "\u001b[1m3/3\u001b[0m \u001b[32m━━━━━━━━━━━━━━━━━━━━\u001b[0m\u001b[37m\u001b[0m \u001b[1m0s\u001b[0m 33ms/step - gdp_output_loss: 0.0314 - life_expectancy_output_loss: 0.0036 - loss: 0.0334 - val_gdp_output_loss: 0.0287 - val_life_expectancy_output_loss: 6.0848e-04 - val_loss: 0.0293\n",
      "Epoch 29/300\n",
      "\u001b[1m3/3\u001b[0m \u001b[32m━━━━━━━━━━━━━━━━━━━━\u001b[0m\u001b[37m\u001b[0m \u001b[1m0s\u001b[0m 32ms/step - gdp_output_loss: 0.0356 - life_expectancy_output_loss: 0.0028 - loss: 0.0362 - val_gdp_output_loss: 0.0309 - val_life_expectancy_output_loss: 5.1968e-04 - val_loss: 0.0314\n",
      "Epoch 30/300\n",
      "\u001b[1m3/3\u001b[0m \u001b[32m━━━━━━━━━━━━━━━━━━━━\u001b[0m\u001b[37m\u001b[0m \u001b[1m0s\u001b[0m 32ms/step - gdp_output_loss: 0.0316 - life_expectancy_output_loss: 0.0032 - loss: 0.0333 - val_gdp_output_loss: 0.0365 - val_life_expectancy_output_loss: 4.1757e-04 - val_loss: 0.0369\n",
      "Epoch 31/300\n",
      "\u001b[1m3/3\u001b[0m \u001b[32m━━━━━━━━━━━━━━━━━━━━\u001b[0m\u001b[37m\u001b[0m \u001b[1m0s\u001b[0m 31ms/step - gdp_output_loss: 0.0275 - life_expectancy_output_loss: 0.0032 - loss: 0.0314 - val_gdp_output_loss: 0.0349 - val_life_expectancy_output_loss: 4.5477e-04 - val_loss: 0.0354\n",
      "Epoch 32/300\n",
      "\u001b[1m3/3\u001b[0m \u001b[32m━━━━━━━━━━━━━━━━━━━━\u001b[0m\u001b[37m\u001b[0m \u001b[1m0s\u001b[0m 38ms/step - gdp_output_loss: 0.0395 - life_expectancy_output_loss: 0.0026 - loss: 0.0415 - val_gdp_output_loss: 0.0312 - val_life_expectancy_output_loss: 5.2611e-04 - val_loss: 0.0317\n",
      "Epoch 33/300\n",
      "\u001b[1m3/3\u001b[0m \u001b[32m━━━━━━━━━━━━━━━━━━━━\u001b[0m\u001b[37m\u001b[0m \u001b[1m0s\u001b[0m 34ms/step - gdp_output_loss: 0.0270 - life_expectancy_output_loss: 0.0028 - loss: 0.0306 - val_gdp_output_loss: 0.0281 - val_life_expectancy_output_loss: 4.5282e-04 - val_loss: 0.0285\n",
      "Epoch 34/300\n",
      "\u001b[1m3/3\u001b[0m \u001b[32m━━━━━━━━━━━━━━━━━━━━\u001b[0m\u001b[37m\u001b[0m \u001b[1m0s\u001b[0m 42ms/step - gdp_output_loss: 0.0258 - life_expectancy_output_loss: 0.0024 - loss: 0.0282 - val_gdp_output_loss: 0.0263 - val_life_expectancy_output_loss: 4.3307e-04 - val_loss: 0.0267\n",
      "Epoch 35/300\n",
      "\u001b[1m3/3\u001b[0m \u001b[32m━━━━━━━━━━━━━━━━━━━━\u001b[0m\u001b[37m\u001b[0m \u001b[1m0s\u001b[0m 32ms/step - gdp_output_loss: 0.0289 - life_expectancy_output_loss: 0.0041 - loss: 0.0331 - val_gdp_output_loss: 0.0264 - val_life_expectancy_output_loss: 4.6408e-04 - val_loss: 0.0268\n",
      "Epoch 36/300\n",
      "\u001b[1m3/3\u001b[0m \u001b[32m━━━━━━━━━━━━━━━━━━━━\u001b[0m\u001b[37m\u001b[0m \u001b[1m0s\u001b[0m 33ms/step - gdp_output_loss: 0.0268 - life_expectancy_output_loss: 0.0034 - loss: 0.0294 - val_gdp_output_loss: 0.0267 - val_life_expectancy_output_loss: 4.2645e-04 - val_loss: 0.0271\n",
      "Epoch 37/300\n",
      "\u001b[1m3/3\u001b[0m \u001b[32m━━━━━━━━━━━━━━━━━━━━\u001b[0m\u001b[37m\u001b[0m \u001b[1m0s\u001b[0m 33ms/step - gdp_output_loss: 0.0217 - life_expectancy_output_loss: 0.0039 - loss: 0.0246 - val_gdp_output_loss: 0.0280 - val_life_expectancy_output_loss: 5.0964e-04 - val_loss: 0.0285\n",
      "Epoch 38/300\n",
      "\u001b[1m3/3\u001b[0m \u001b[32m━━━━━━━━━━━━━━━━━━━━\u001b[0m\u001b[37m\u001b[0m \u001b[1m0s\u001b[0m 38ms/step - gdp_output_loss: 0.0296 - life_expectancy_output_loss: 0.0023 - loss: 0.0319 - val_gdp_output_loss: 0.0288 - val_life_expectancy_output_loss: 3.5475e-04 - val_loss: 0.0291\n",
      "Epoch 39/300\n",
      "\u001b[1m3/3\u001b[0m \u001b[32m━━━━━━━━━━━━━━━━━━━━\u001b[0m\u001b[37m\u001b[0m \u001b[1m0s\u001b[0m 32ms/step - gdp_output_loss: 0.0252 - life_expectancy_output_loss: 0.0027 - loss: 0.0282 - val_gdp_output_loss: 0.0323 - val_life_expectancy_output_loss: 4.8737e-04 - val_loss: 0.0328\n",
      "Epoch 40/300\n",
      "\u001b[1m3/3\u001b[0m \u001b[32m━━━━━━━━━━━━━━━━━━━━\u001b[0m\u001b[37m\u001b[0m \u001b[1m0s\u001b[0m 34ms/step - gdp_output_loss: 0.0275 - life_expectancy_output_loss: 0.0035 - loss: 0.0296 - val_gdp_output_loss: 0.0325 - val_life_expectancy_output_loss: 5.0995e-04 - val_loss: 0.0330\n",
      "Epoch 41/300\n",
      "\u001b[1m3/3\u001b[0m \u001b[32m━━━━━━━━━━━━━━━━━━━━\u001b[0m\u001b[37m\u001b[0m \u001b[1m0s\u001b[0m 48ms/step - gdp_output_loss: 0.0277 - life_expectancy_output_loss: 0.0032 - loss: 0.0310 - val_gdp_output_loss: 0.0296 - val_life_expectancy_output_loss: 4.2678e-04 - val_loss: 0.0301\n",
      "Epoch 42/300\n",
      "\u001b[1m3/3\u001b[0m \u001b[32m━━━━━━━━━━━━━━━━━━━━\u001b[0m\u001b[37m\u001b[0m \u001b[1m0s\u001b[0m 36ms/step - gdp_output_loss: 0.0255 - life_expectancy_output_loss: 0.0020 - loss: 0.0269 - val_gdp_output_loss: 0.0296 - val_life_expectancy_output_loss: 3.1807e-04 - val_loss: 0.0299\n",
      "Epoch 43/300\n",
      "\u001b[1m3/3\u001b[0m \u001b[32m━━━━━━━━━━━━━━━━━━━━\u001b[0m\u001b[37m\u001b[0m \u001b[1m0s\u001b[0m 34ms/step - gdp_output_loss: 0.0262 - life_expectancy_output_loss: 0.0031 - loss: 0.0296 - val_gdp_output_loss: 0.0296 - val_life_expectancy_output_loss: 2.5847e-04 - val_loss: 0.0299\n",
      "Epoch 44/300\n",
      "\u001b[1m3/3\u001b[0m \u001b[32m━━━━━━━━━━━━━━━━━━━━\u001b[0m\u001b[37m\u001b[0m \u001b[1m0s\u001b[0m 34ms/step - gdp_output_loss: 0.0232 - life_expectancy_output_loss: 0.0020 - loss: 0.0249 - val_gdp_output_loss: 0.0305 - val_life_expectancy_output_loss: 2.5091e-04 - val_loss: 0.0308\n",
      "Epoch 45/300\n",
      "\u001b[1m3/3\u001b[0m \u001b[32m━━━━━━━━━━━━━━━━━━━━\u001b[0m\u001b[37m\u001b[0m \u001b[1m0s\u001b[0m 32ms/step - gdp_output_loss: 0.0231 - life_expectancy_output_loss: 0.0029 - loss: 0.0259 - val_gdp_output_loss: 0.0308 - val_life_expectancy_output_loss: 2.3731e-04 - val_loss: 0.0310\n",
      "Epoch 46/300\n",
      "\u001b[1m3/3\u001b[0m \u001b[32m━━━━━━━━━━━━━━━━━━━━\u001b[0m\u001b[37m\u001b[0m \u001b[1m0s\u001b[0m 34ms/step - gdp_output_loss: 0.0267 - life_expectancy_output_loss: 0.0035 - loss: 0.0302 - val_gdp_output_loss: 0.0279 - val_life_expectancy_output_loss: 1.7364e-04 - val_loss: 0.0281\n",
      "Epoch 47/300\n",
      "\u001b[1m3/3\u001b[0m \u001b[32m━━━━━━━━━━━━━━━━━━━━\u001b[0m\u001b[37m\u001b[0m \u001b[1m0s\u001b[0m 33ms/step - gdp_output_loss: 0.0260 - life_expectancy_output_loss: 0.0024 - loss: 0.0287 - val_gdp_output_loss: 0.0292 - val_life_expectancy_output_loss: 2.4737e-04 - val_loss: 0.0295\n",
      "Epoch 48/300\n",
      "\u001b[1m3/3\u001b[0m \u001b[32m━━━━━━━━━━━━━━━━━━━━\u001b[0m\u001b[37m\u001b[0m \u001b[1m0s\u001b[0m 29ms/step - gdp_output_loss: 0.0237 - life_expectancy_output_loss: 0.0029 - loss: 0.0255 - val_gdp_output_loss: 0.0290 - val_life_expectancy_output_loss: 2.6263e-04 - val_loss: 0.0293\n",
      "Epoch 49/300\n",
      "\u001b[1m3/3\u001b[0m \u001b[32m━━━━━━━━━━━━━━━━━━━━\u001b[0m\u001b[37m\u001b[0m \u001b[1m0s\u001b[0m 38ms/step - gdp_output_loss: 0.0243 - life_expectancy_output_loss: 0.0017 - loss: 0.0259 - val_gdp_output_loss: 0.0347 - val_life_expectancy_output_loss: 3.9949e-04 - val_loss: 0.0351\n",
      "Epoch 50/300\n",
      "\u001b[1m3/3\u001b[0m \u001b[32m━━━━━━━━━━━━━━━━━━━━\u001b[0m\u001b[37m\u001b[0m \u001b[1m0s\u001b[0m 33ms/step - gdp_output_loss: 0.0288 - life_expectancy_output_loss: 0.0024 - loss: 0.0313 - val_gdp_output_loss: 0.0293 - val_life_expectancy_output_loss: 3.1395e-04 - val_loss: 0.0296\n",
      "Epoch 51/300\n",
      "\u001b[1m3/3\u001b[0m \u001b[32m━━━━━━━━━━━━━━━━━━━━\u001b[0m\u001b[37m\u001b[0m \u001b[1m0s\u001b[0m 36ms/step - gdp_output_loss: 0.0205 - life_expectancy_output_loss: 0.0037 - loss: 0.0238 - val_gdp_output_loss: 0.0301 - val_life_expectancy_output_loss: 4.5680e-04 - val_loss: 0.0306\n",
      "Epoch 52/300\n",
      "\u001b[1m3/3\u001b[0m \u001b[32m━━━━━━━━━━━━━━━━━━━━\u001b[0m\u001b[37m\u001b[0m \u001b[1m0s\u001b[0m 39ms/step - gdp_output_loss: 0.0252 - life_expectancy_output_loss: 0.0020 - loss: 0.0282 - val_gdp_output_loss: 0.0306 - val_life_expectancy_output_loss: 2.3814e-04 - val_loss: 0.0308\n",
      "Epoch 53/300\n",
      "\u001b[1m3/3\u001b[0m \u001b[32m━━━━━━━━━━━━━━━━━━━━\u001b[0m\u001b[37m\u001b[0m \u001b[1m0s\u001b[0m 39ms/step - gdp_output_loss: 0.0267 - life_expectancy_output_loss: 0.0025 - loss: 0.0286 - val_gdp_output_loss: 0.0334 - val_life_expectancy_output_loss: 3.4395e-04 - val_loss: 0.0338\n",
      "Epoch 54/300\n",
      "\u001b[1m3/3\u001b[0m \u001b[32m━━━━━━━━━━━━━━━━━━━━\u001b[0m\u001b[37m\u001b[0m \u001b[1m0s\u001b[0m 36ms/step - gdp_output_loss: 0.0276 - life_expectancy_output_loss: 0.0030 - loss: 0.0287 - val_gdp_output_loss: 0.0345 - val_life_expectancy_output_loss: 7.0513e-04 - val_loss: 0.0352\n",
      "\u001b[1m2/2\u001b[0m \u001b[32m━━━━━━━━━━━━━━━━━━━━\u001b[0m\u001b[37m\u001b[0m \u001b[1m0s\u001b[0m 200ms/step\n",
      "Optimized Multi-Task Learning - Life Expectancy RMSE: 20.692080091610727, R2: -8.651353052891752, MAE: 19.552068467678296\n"
     ]
    }
   ],
   "source": [
    "import numpy as np\n",
    "import pandas as pd\n",
    "from sklearn.model_selection import train_test_split, KFold\n",
    "from sklearn.preprocessing import StandardScaler, MinMaxScaler\n",
    "from sklearn.feature_selection import RFE\n",
    "from sklearn.linear_model import LinearRegression\n",
    "from sklearn.metrics import mean_squared_error, r2_score\n",
    "from tensorflow.keras.models import Model\n",
    "from tensorflow.keras.layers import Dense, Dropout, BatchNormalization, Input\n",
    "from tensorflow.keras.optimizers import Adam\n",
    "from tensorflow.keras.callbacks import EarlyStopping, ReduceLROnPlateau\n",
    "import keras_tuner as kt\n",
    "\n",
    "X = merged_data.drop(['Life expectancy', 'Country'], axis=1)\n",
    "y_life_expectancy = merged_data['Life expectancy']\n",
    "y_gdp = merged_data['GDP']\n",
    "\n",
    "scaler_y_life = MinMaxScaler()\n",
    "y_train_life_scaled = scaler_y_life.fit_transform(y_life_expectancy.values.reshape(-1, 1))\n",
    "\n",
    "scaler_y_gdp = MinMaxScaler()\n",
    "y_train_gdp_scaled = scaler_y_gdp.fit_transform(y_gdp.values.reshape(-1, 1))\n",
    "\n",
    "X_train_full, X_test, y_train_life, y_test_life = train_test_split(X, y_train_life_scaled, test_size=0.2, random_state=42)\n",
    "_, _, y_train_gdp, y_test_gdp = train_test_split(X, y_train_gdp_scaled, test_size=0.2, random_state=42)\n",
    "\n",
    "selector = RFE(LinearRegression(), n_features_to_select=30)\n",
    "X_train_selected = selector.fit_transform(X_train_full, y_train_life)\n",
    "X_test_selected = selector.transform(X_test)\n",
    "\n",
    "scaler = StandardScaler()\n",
    "X_train_scaled = scaler.fit_transform(X_train_selected)\n",
    "X_test_scaled = scaler.transform(X_test_selected)\n",
    "\n",
    "def build_model(hp):\n",
    "    input_layer = Input(shape=(X_train_scaled.shape[1],))\n",
    "\n",
    "    hp_units_1 = hp.Int('units_1', min_value=64, max_value=256, step=64)\n",
    "    hp_units_2 = hp.Int('units_2', min_value=64, max_value=128, step=32)\n",
    "    hp_units_3 = hp.Int('units_3', min_value=32, max_value=64, step=16)\n",
    "    hp_dropout = hp.Float('dropout', min_value=0.1, max_value=0.5, step=0.1)\n",
    "    hp_learning_rate = hp.Choice('learning_rate', values=[1e-2, 1e-3, 1e-4])\n",
    "\n",
    "    shared = Dense(hp_units_1, activation='relu')(input_layer)\n",
    "    shared = BatchNormalization()(shared)\n",
    "    shared = Dropout(hp_dropout)(shared)\n",
    "\n",
    "    shared = Dense(hp_units_2, activation='relu')(shared)\n",
    "    shared = BatchNormalization()(shared)\n",
    "    shared = Dropout(hp_dropout)(shared)\n",
    "\n",
    "    shared = Dense(hp_units_3, activation='relu')(shared)\n",
    "    shared = BatchNormalization()(shared)\n",
    "    shared = Dropout(hp_dropout)(shared)\n",
    "\n",
    "    life_output = Dense(1, name='life_expectancy_output')(shared)\n",
    "    gdp_output = Dense(1, name='gdp_output')(shared)\n",
    "\n",
    "    mtl_model = Model(inputs=input_layer, outputs=[life_output, gdp_output])\n",
    "\n",
    "    mtl_model.compile(optimizer=Adam(learning_rate=hp_learning_rate),  \n",
    "                      loss={'life_expectancy_output': 'mse', 'gdp_output': 'mse'},\n",
    "                      loss_weights={'life_expectancy_output': 2.0, 'gdp_output': 0.5})\n",
    "    \n",
    "    return mtl_model\n",
    "\n",
    "tuner = kt.Hyperband(\n",
    "    build_model,\n",
    "    objective='val_loss',\n",
    "    max_epochs=200,\n",
    "    factor=3,\n",
    "    directory='keras_tuner_dir',\n",
    "    project_name='mtl_life_expectancy')\n",
    "\n",
    "early_stopping = EarlyStopping(monitor='val_loss', patience=20, restore_best_weights=True)\n",
    "\n",
    "tuner.search(X_train_scaled, {'life_expectancy_output': y_train_life, 'gdp_output': y_train_gdp}, \n",
    "             validation_data=(X_test_scaled, {'life_expectancy_output': y_test_life, 'gdp_output': y_test_gdp}),\n",
    "             epochs=200, batch_size=32, callbacks=[early_stopping])\n",
    "\n",
    "best_model = tuner.get_best_models(num_models=1)[0]\n",
    "\n",
    "history = best_model.fit(X_train_scaled, {'life_expectancy_output': y_train_life, 'gdp_output': y_train_gdp}, \n",
    "                         validation_data=(X_test_scaled, {'life_expectancy_output': y_test_life, 'gdp_output': y_test_gdp}),\n",
    "                         epochs=300, batch_size=64, verbose=1, callbacks=[early_stopping])\n",
    "\n",
    "y_pred_life, y_pred_gdp = best_model.predict(X_test_scaled)\n",
    "\n",
    "y_pred_life_rescaled = scaler_y_life.inverse_transform(y_pred_life)\n",
    "y_test_life_rescaled = scaler_y_life.inverse_transform(y_test_life)\n",
    "\n",
    "rmse_life = np.sqrt(mean_squared_error(y_test_life_rescaled, y_pred_life_rescaled))\n",
    "r2_life = r2_score(y_test_life_rescaled, y_pred_life_rescaled)\n",
    "mae_life = mean_absolute_error(y_test_life_rescaled, y_pred_life_rescaled)\n",
    "\n",
    "print(f\"Optimized Multi-Task Learning - Life Expectancy RMSE: {rmse_life}, R2: {r2_life}, MAE: {mae_life}\")"
   ]
  },
  {
   "cell_type": "code",
   "execution_count": 8,
   "id": "8a05b6c2-7f08-4536-8090-1b48ba37dd47",
   "metadata": {},
   "outputs": [
    {
     "name": "stdout",
     "output_type": "stream",
     "text": [
      "trial_id  units_1  units_2  units_3  dropout  learning_rate   score\n",
      "    0144      256       64       48      0.3          0.010 0.01847\n",
      "    0234       64       64       48      0.3          0.010 0.01878\n",
      "    0146      256       64       48      0.3          0.010 0.01975\n",
      "    0145      128       64       32      0.2          0.010 0.01995\n",
      "    0247      256      128       48      0.3          0.001 0.02048\n",
      "    0142      256      128       48      0.4          0.010 0.02062\n",
      "    0231       64       64       48      0.3          0.010 0.02062\n",
      "    0235      192       96       64      0.1          0.010 0.02073\n",
      "    0143      256       96       32      0.3          0.010 0.02074\n",
      "    0147      128       64       32      0.2          0.010 0.02075\n"
     ]
    }
   ],
   "source": [
    "import pandas as pd\n",
    "\n",
    "data = [\n",
    "    {'trial_id': '0144', 'units_1': 256, 'units_2': 64, 'units_3': 48, 'dropout': 0.3, 'learning_rate': 0.01, 'score': 0.01847},\n",
    "    {'trial_id': '0234', 'units_1': 64, 'units_2': 64, 'units_3': 48, 'dropout': 0.3, 'learning_rate': 0.01, 'score': 0.01878},\n",
    "    {'trial_id': '0146', 'units_1': 256, 'units_2': 64, 'units_3': 48, 'dropout': 0.3, 'learning_rate': 0.01, 'score': 0.01975},\n",
    "    {'trial_id': '0145', 'units_1': 128, 'units_2': 64, 'units_3': 32, 'dropout': 0.2, 'learning_rate': 0.01, 'score': 0.01995},\n",
    "    {'trial_id': '0247', 'units_1': 256, 'units_2': 128, 'units_3': 48, 'dropout': 0.3, 'learning_rate': 0.001, 'score': 0.02048},\n",
    "    {'trial_id': '0142', 'units_1': 256, 'units_2': 128, 'units_3': 48, 'dropout': 0.4, 'learning_rate': 0.01, 'score': 0.02062},\n",
    "    {'trial_id': '0231', 'units_1': 64, 'units_2': 64, 'units_3': 48, 'dropout': 0.3, 'learning_rate': 0.01, 'score': 0.02062},\n",
    "    {'trial_id': '0235', 'units_1': 192, 'units_2': 96, 'units_3': 64, 'dropout': 0.1, 'learning_rate': 0.01, 'score': 0.02073},\n",
    "    {'trial_id': '0143', 'units_1': 256, 'units_2': 96, 'units_3': 32, 'dropout': 0.3, 'learning_rate': 0.01, 'score': 0.02074},\n",
    "    {'trial_id': '0147', 'units_1': 128, 'units_2': 64, 'units_3': 32, 'dropout': 0.2, 'learning_rate': 0.01, 'score': 0.02075}\n",
    "]\n",
    "\n",
    "df = pd.DataFrame(data)\n",
    "\n",
    "pd.set_option('display.max_columns', None)\n",
    "pd.set_option('display.expand_frame_repr', False)\n",
    "pd.set_option('display.max_colwidth', None)\n",
    "pd.set_option('display.precision', 5)\n",
    "\n",
    "print(df.to_string(index=False))"
   ]
  },
  {
   "cell_type": "code",
   "execution_count": 19,
   "id": "d1ef35e6-d61c-4836-bea7-731f1d58da66",
   "metadata": {
    "scrolled": true
   },
   "outputs": [
    {
     "name": "stderr",
     "output_type": "stream",
     "text": [
      "C:\\Users\\super\\AppData\\Local\\Programs\\Python\\Python39\\lib\\site-packages\\keras\\src\\callbacks\\early_stopping.py:155: UserWarning: Early stopping conditioned on metric `val_loss` which is not available. Available metrics are: gdp_output_loss,gdp_output_mse,life_expectancy_output_loss,life_expectancy_output_mse,loss\n",
      "  current = self.get_monitor_value(logs)\n",
      "C:\\Users\\super\\AppData\\Local\\Programs\\Python\\Python39\\lib\\site-packages\\keras\\src\\callbacks\\callback_list.py:151: UserWarning: Learning rate reduction is conditioned on metric `val_loss` which is not available. Available metrics are: gdp_output_loss,gdp_output_mse,life_expectancy_output_loss,life_expectancy_output_mse,loss,learning_rate.\n",
      "  callback.on_epoch_end(epoch, logs)\n"
     ]
    },
    {
     "name": "stdout",
     "output_type": "stream",
     "text": [
      "WARNING:tensorflow:5 out of the last 5 calls to <function TensorFlowTrainer.make_predict_function.<locals>.one_step_on_data_distributed at 0x000001C7F93FB9D0> triggered tf.function retracing. Tracing is expensive and the excessive number of tracings could be due to (1) creating @tf.function repeatedly in a loop, (2) passing tensors with different shapes, (3) passing Python objects instead of tensors. For (1), please define your @tf.function outside of the loop. For (2), @tf.function has reduce_retracing=True option that can avoid unnecessary retracing. For (3), please refer to https://www.tensorflow.org/guide/function#controlling_retracing and https://www.tensorflow.org/api_docs/python/tf/function for  more details.\n",
      "\u001b[1m1/1\u001b[0m \u001b[32m━━━━━━━━━━━━━━━━━━━━\u001b[0m\u001b[37m\u001b[0m \u001b[1m0s\u001b[0m 253ms/step\n"
     ]
    },
    {
     "name": "stderr",
     "output_type": "stream",
     "text": [
      "C:\\Users\\super\\AppData\\Local\\Programs\\Python\\Python39\\lib\\site-packages\\keras\\src\\callbacks\\early_stopping.py:155: UserWarning: Early stopping conditioned on metric `val_loss` which is not available. Available metrics are: gdp_output_loss,gdp_output_mse,life_expectancy_output_loss,life_expectancy_output_mse,loss\n",
      "  current = self.get_monitor_value(logs)\n",
      "C:\\Users\\super\\AppData\\Local\\Programs\\Python\\Python39\\lib\\site-packages\\keras\\src\\callbacks\\callback_list.py:151: UserWarning: Learning rate reduction is conditioned on metric `val_loss` which is not available. Available metrics are: gdp_output_loss,gdp_output_mse,life_expectancy_output_loss,life_expectancy_output_mse,loss,learning_rate.\n",
      "  callback.on_epoch_end(epoch, logs)\n"
     ]
    },
    {
     "name": "stdout",
     "output_type": "stream",
     "text": [
      "WARNING:tensorflow:6 out of the last 6 calls to <function TensorFlowTrainer.make_predict_function.<locals>.one_step_on_data_distributed at 0x000001C7FA59A4C0> triggered tf.function retracing. Tracing is expensive and the excessive number of tracings could be due to (1) creating @tf.function repeatedly in a loop, (2) passing tensors with different shapes, (3) passing Python objects instead of tensors. For (1), please define your @tf.function outside of the loop. For (2), @tf.function has reduce_retracing=True option that can avoid unnecessary retracing. For (3), please refer to https://www.tensorflow.org/guide/function#controlling_retracing and https://www.tensorflow.org/api_docs/python/tf/function for  more details.\n",
      "\u001b[1m1/1\u001b[0m \u001b[32m━━━━━━━━━━━━━━━━━━━━\u001b[0m\u001b[37m\u001b[0m \u001b[1m0s\u001b[0m 239ms/step\n"
     ]
    },
    {
     "name": "stderr",
     "output_type": "stream",
     "text": [
      "C:\\Users\\super\\AppData\\Local\\Programs\\Python\\Python39\\lib\\site-packages\\keras\\src\\callbacks\\early_stopping.py:155: UserWarning: Early stopping conditioned on metric `val_loss` which is not available. Available metrics are: gdp_output_loss,gdp_output_mse,life_expectancy_output_loss,life_expectancy_output_mse,loss\n",
      "  current = self.get_monitor_value(logs)\n",
      "C:\\Users\\super\\AppData\\Local\\Programs\\Python\\Python39\\lib\\site-packages\\keras\\src\\callbacks\\callback_list.py:151: UserWarning: Learning rate reduction is conditioned on metric `val_loss` which is not available. Available metrics are: gdp_output_loss,gdp_output_mse,life_expectancy_output_loss,life_expectancy_output_mse,loss,learning_rate.\n",
      "  callback.on_epoch_end(epoch, logs)\n"
     ]
    },
    {
     "name": "stdout",
     "output_type": "stream",
     "text": [
      "\u001b[1m1/1\u001b[0m \u001b[32m━━━━━━━━━━━━━━━━━━━━\u001b[0m\u001b[37m\u001b[0m \u001b[1m0s\u001b[0m 236ms/step\n"
     ]
    },
    {
     "name": "stderr",
     "output_type": "stream",
     "text": [
      "C:\\Users\\super\\AppData\\Local\\Programs\\Python\\Python39\\lib\\site-packages\\keras\\src\\callbacks\\early_stopping.py:155: UserWarning: Early stopping conditioned on metric `val_loss` which is not available. Available metrics are: gdp_output_loss,gdp_output_mse,life_expectancy_output_loss,life_expectancy_output_mse,loss\n",
      "  current = self.get_monitor_value(logs)\n",
      "C:\\Users\\super\\AppData\\Local\\Programs\\Python\\Python39\\lib\\site-packages\\keras\\src\\callbacks\\callback_list.py:151: UserWarning: Learning rate reduction is conditioned on metric `val_loss` which is not available. Available metrics are: gdp_output_loss,gdp_output_mse,life_expectancy_output_loss,life_expectancy_output_mse,loss,learning_rate.\n",
      "  callback.on_epoch_end(epoch, logs)\n"
     ]
    },
    {
     "name": "stdout",
     "output_type": "stream",
     "text": [
      "\u001b[1m1/1\u001b[0m \u001b[32m━━━━━━━━━━━━━━━━━━━━\u001b[0m\u001b[37m\u001b[0m \u001b[1m0s\u001b[0m 235ms/step\n"
     ]
    },
    {
     "name": "stderr",
     "output_type": "stream",
     "text": [
      "C:\\Users\\super\\AppData\\Local\\Programs\\Python\\Python39\\lib\\site-packages\\keras\\src\\callbacks\\early_stopping.py:155: UserWarning: Early stopping conditioned on metric `val_loss` which is not available. Available metrics are: gdp_output_loss,gdp_output_mse,life_expectancy_output_loss,life_expectancy_output_mse,loss\n",
      "  current = self.get_monitor_value(logs)\n",
      "C:\\Users\\super\\AppData\\Local\\Programs\\Python\\Python39\\lib\\site-packages\\keras\\src\\callbacks\\callback_list.py:151: UserWarning: Learning rate reduction is conditioned on metric `val_loss` which is not available. Available metrics are: gdp_output_loss,gdp_output_mse,life_expectancy_output_loss,life_expectancy_output_mse,loss,learning_rate.\n",
      "  callback.on_epoch_end(epoch, logs)\n"
     ]
    },
    {
     "name": "stdout",
     "output_type": "stream",
     "text": [
      "\u001b[1m1/1\u001b[0m \u001b[32m━━━━━━━━━━━━━━━━━━━━\u001b[0m\u001b[37m\u001b[0m \u001b[1m0s\u001b[0m 236ms/step\n"
     ]
    },
    {
     "ename": "NameError",
     "evalue": "name 'mtl_model' is not defined",
     "output_type": "error",
     "traceback": [
      "\u001b[1;31m---------------------------------------------------------------------------\u001b[0m",
      "\u001b[1;31mNameError\u001b[0m                                 Traceback (most recent call last)",
      "Cell \u001b[1;32mIn[19], line 67\u001b[0m\n\u001b[0;32m     64\u001b[0m mean_r2 \u001b[38;5;241m=\u001b[39m np\u001b[38;5;241m.\u001b[39mmean(r2_scores)\n\u001b[0;32m     66\u001b[0m \u001b[38;5;66;03m# Now, evaluate the model on the full test set\u001b[39;00m\n\u001b[1;32m---> 67\u001b[0m y_test_pred \u001b[38;5;241m=\u001b[39m \u001b[43mmtl_model\u001b[49m\u001b[38;5;241m.\u001b[39mpredict(X_test_scaled)\n\u001b[0;32m     69\u001b[0m \u001b[38;5;66;03m# Extract life expectancy predictions (index 0 for \"life_expectancy_output\")\u001b[39;00m\n\u001b[0;32m     70\u001b[0m y_test_pred_life \u001b[38;5;241m=\u001b[39m y_test_pred[\u001b[38;5;241m0\u001b[39m]\n",
      "\u001b[1;31mNameError\u001b[0m: name 'mtl_model' is not defined"
     ]
    }
   ],
   "source": [
    "from sklearn.model_selection import KFold\n",
    "from sklearn.metrics import mean_squared_error, mean_absolute_error, r2_score\n",
    "import numpy as np\n",
    "from tensorflow.keras.callbacks import EarlyStopping, ReduceLROnPlateau\n",
    "\n",
    "kf = KFold(n_splits=5, shuffle=True, random_state=42)\n",
    "\n",
    "rmse_scores = []\n",
    "mae_scores = []\n",
    "r2_scores = []\n",
    "\n",
    "early_stopping = EarlyStopping(monitor='val_loss', patience=10, restore_best_weights=True)\n",
    "lr_scheduler = ReduceLROnPlateau(monitor='val_loss', factor=0.5, patience=5, min_lr=1e-6)\n",
    "\n",
    "for train_index, val_index in kf.split(X_train_scaled):\n",
    "    X_train_k, X_val_k = X_train_scaled[train_index], X_train_scaled[val_index]\n",
    "    y_train_life_k, y_val_life_k = y_train_life[train_index], y_train_life[val_index]\n",
    "    y_train_gdp_k, y_val_gdp_k = y_train_gdp[train_index], y_train_gdp[val_index]\n",
    "\n",
    "    hp = kt.HyperParameters()\n",
    "    hp.Fixed('units_1', value=128)\n",
    "    hp.Fixed('units_2', value=96)\n",
    "    hp.Fixed('units_3', value=48)\n",
    "    hp.Fixed('dropout', value=0.3)\n",
    "    hp.Fixed('learning_rate', value=1e-3)\n",
    "    model = build_model(hp)\n",
    "\n",
    "    model.compile(optimizer=Adam(learning_rate=1e-3), \n",
    "                  loss={'life_expectancy_output': 'mse', 'gdp_output': 'mse'},\n",
    "                  metrics={'life_expectancy_output': ['mse'], 'gdp_output': ['mse']})\n",
    "\n",
    "    model.fit(X_train_k, {'life_expectancy_output': y_train_life_k, 'gdp_output': y_train_gdp_k}, \n",
    "              epochs=100, batch_size=64, verbose=0, \n",
    "              callbacks=[early_stopping, lr_scheduler])\n",
    "\n",
    "    y_pred_k = model.predict(X_val_k)\n",
    "\n",
    "    y_pred_k_life = y_pred_k[0] \n",
    "    y_val_rescaled = scaler_y_life.inverse_transform(y_val_life_k)\n",
    "    y_pred_k_rescaled = scaler_y_life.inverse_transform(y_pred_k_life)\n",
    "\n",
    "    rmse_k = np.sqrt(mean_squared_error(y_val_rescaled, y_pred_k_rescaled))\n",
    "    mae_k = mean_absolute_error(y_val_rescaled, y_pred_k_rescaled)\n",
    "    r2_k = r2_score(y_val_rescaled, y_pred_k_rescaled)\n",
    "\n",
    "    rmse_scores.append(rmse_k)\n",
    "    mae_scores.append(mae_k)\n",
    "    r2_scores.append(r2_k)\n",
    "\n",
    "mean_rmse = np.mean(rmse_scores)\n",
    "mean_mae = np.mean(mae_scores)\n",
    "mean_r2 = np.mean(r2_scores)\n",
    "\n",
    "y_test_pred = mtl_model.predict(X_test_scaled)\n",
    "\n",
    "y_test_pred_life = y_test_pred[0]\n",
    "\n",
    "y_test_pred_rescaled = scaler_y_life.inverse_transform(y_test_pred_life)\n",
    "y_test_rescaled = scaler_y_life.inverse_transform(y_test_life)\n",
    "\n",
    "meta_model_rmse = np.sqrt(mean_squared_error(y_test_rescaled, y_test_pred_rescaled))\n",
    "\n",
    "print(f\"Mean RMSE across folds: {mean_rmse}\")\n",
    "print(f\"Mean MAE across folds: {mean_mae}\")\n",
    "print(f\"Mean R2 across folds: {mean_r2}\")\n",
    "print(f\"Meta-Model RMSE on test set: {meta_model_rmse}\")"
   ]
  },
  {
   "cell_type": "code",
   "execution_count": 21,
   "id": "9326a70d-bb6d-4f66-a954-e564b2a82680",
   "metadata": {},
   "outputs": [
    {
     "data": {
      "image/png": "[encoded data removed]",
      "text/plain": [
       "<Figure size 1400x600 with 2 Axes>"
      ]
     },
     "metadata": {},
     "output_type": "display_data"
    }
   ],
   "source": [
    "import matplotlib.pyplot as plt\n",
    "\n",
    "residuals_life = y_test_life_rescaled - y_pred_life_rescaled\n",
    "residuals_gdp = y_test_gdp_rescaled - y_pred_gdp_rescaled\n",
    "\n",
    "plt.figure(figsize=(14, 6))\n",
    "\n",
    "plt.subplot(1, 2, 1)\n",
    "plt.scatter(y_pred_life_rescaled, residuals_life, color='blue', alpha=0.5)\n",
    "plt.axhline(y=0, color='k', linestyle='--')\n",
    "plt.title('Residuals Plot for Life Expectancy')\n",
    "plt.xlabel('Predicted Life Expectancy')\n",
    "plt.ylabel('Residuals')\n",
    "\n",
    "plt.subplot(1, 2, 2)\n",
    "plt.scatter(y_pred_gdp_rescaled, residuals_gdp, color='red', alpha=0.5)\n",
    "plt.axhline(y=0, color='k', linestyle='--')\n",
    "plt.title('Residuals Plot for GDP')\n",
    "plt.xlabel('Predicted GDP')\n",
    "plt.ylabel('Residuals')\n",
    "\n",
    "plt.tight_layout()\n",
    "plt.show()"
   ]
  }
 ],
 "metadata": {
  "kernelspec": {
   "display_name": "Python 3 (ipykernel)",
   "language": "python",
   "name": "python3"
  },
  "language_info": {
   "codemirror_mode": {
    "name": "ipython",
    "version": 3
   },
   "file_extension": ".py",
   "mimetype": "text/x-python",
   "name": "python",
   "nbconvert_exporter": "python",
   "pygments_lexer": "ipython3",
   "version": "3.9.13"
  }
 },
 "nbformat": 4,
 "nbformat_minor": 5
}
